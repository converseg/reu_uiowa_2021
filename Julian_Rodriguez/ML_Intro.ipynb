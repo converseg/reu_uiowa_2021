{
  "nbformat": 4,
  "nbformat_minor": 0,
  "metadata": {
    "colab": {
      "name": "ML_Intro.ipynb",
      "provenance": []
    },
    "kernelspec": {
      "name": "python3",
      "display_name": "Python 3"
    },
    "language_info": {
      "name": "python"
    }
  },
  "cells": [
    {
      "cell_type": "code",
      "metadata": {
        "id": "2P1pe8w9f-n1"
      },
      "source": [
        "import tensorflow as tf\n",
        "import keras\n",
        "from keras.datasets import mnist"
      ],
      "execution_count": 27,
      "outputs": []
    },
    {
      "cell_type": "code",
      "metadata": {
        "colab": {
          "base_uri": "https://localhost:8080/"
        },
        "id": "SD4an4nJgGL1",
        "outputId": "c88e0f6e-20ec-4e07-9088-f710dd81f225"
      },
      "source": [
        "# Load the data and seperate it into the trainning and testing section\n",
        "(x_train, y_train), (x_test, y_test) = mnist.load_data()\n",
        "\n",
        "# This is the data (x)\n",
        "print('Number of train examples:', x_train.shape)\n",
        "print('Number of test examples:', x_test.shape)\n",
        "\n",
        "# these represent the ouput for the data (y)\n",
        "print('Number of train features:', y_train.shape)\n",
        "print('Number of test features:', y_test.shape)\n",
        "\n",
        "\n",
        "# The reason we have the data broken up into two sections is to update the model (train)\n",
        "# and then see how well it preforms with new information (testing)"
      ],
      "execution_count": 28,
      "outputs": [
        {
          "output_type": "stream",
          "text": [
            "Number of train examples: (60000, 28, 28)\n",
            "Number of test examples: (10000, 28, 28)\n",
            "Number of train features: (60000,)\n",
            "Number of test features: (10000,)\n"
          ],
          "name": "stdout"
        }
      ]
    },
    {
      "cell_type": "code",
      "metadata": {
        "colab": {
          "base_uri": "https://localhost:8080/"
        },
        "id": "B7wiprW4gKe0",
        "outputId": "8d0607a1-cb71-4954-911a-d6c5bf1dffe7"
      },
      "source": [
        "\n",
        "# Get the number of pixels in the Neural Network\n",
        "image_size = 784\n",
        "\n",
        "# Reduce the dimensionality of the data\n",
        "x_train = x_train.reshape(x_train.shape[0], image_size) # Transform from matrix to vector\n",
        "x_train = x_train.astype('float32')\n",
        "x_train /= 255 # Normalize inputs from 0-255 to 0.0-1.0\n",
        "\n",
        "x_test = x_test.reshape(x_test.shape[0], image_size) # Transform from matrix to vector\n",
        "x_test = x_test.astype('float32')\n",
        "x_test /= 255 # Normalize inputs from 0-255 to 0.0-1.0\n",
        "\n",
        "\n",
        "\n",
        "# Convert class vectors to binary class matrices\n",
        "num_classes = 10\n",
        "y_train = tf.keras.utils.to_categorical(y_train, num_classes)\n",
        "y_test = tf.keras.utils.to_categorical(y_test, num_classes)\n",
        "\n",
        "\n",
        "print('Number of train examples:', x_train.shape)\n",
        "print('Number of test examples:', x_test.shape)\n",
        "print('Number of train features:', y_train.shape)\n",
        "print('Number of test features:', y_test.shape)"
      ],
      "execution_count": 29,
      "outputs": [
        {
          "output_type": "stream",
          "text": [
            "Number of train examples: (60000, 784)\n",
            "Number of test examples: (10000, 784)\n",
            "Number of train features: (60000, 10)\n",
            "Number of test features: (10000, 10)\n"
          ],
          "name": "stdout"
        }
      ]
    },
    {
      "cell_type": "code",
      "metadata": {
        "id": "VOGudU1qgRZ6"
      },
      "source": [
        "from keras.models import Sequential\n",
        "from keras.layers import Dense, Activation\n",
        "from keras.utils.vis_utils import plot_model"
      ],
      "execution_count": 30,
      "outputs": []
    },
    {
      "cell_type": "code",
      "metadata": {
        "id": "NrbLcPFNhHdP"
      },
      "source": [
        "# sequential is a type of feed forward model\n",
        "model = Sequential(\n",
        "            [\n",
        "                # fully connected layer with 32 nodes, takes in 28*28 input images\n",
        "                Dense(32, input_shape=(28*28,), activation='linear'),\n",
        "                # another fully connected layer with 5 nodes\n",
        "                Dense(5, activation='linear'),\n",
        "                # another fully connected layer with 5 nodes\n",
        "                Dense(10, activation='linear')\n",
        "            ]\n",
        "                  )"
      ],
      "execution_count": 31,
      "outputs": []
    },
    {
      "cell_type": "code",
      "metadata": {
        "colab": {
          "base_uri": "https://localhost:8080/"
        },
        "id": "RmK3SjvQhLBg",
        "outputId": "eea591e0-388c-4447-e47e-18f9ebff7eff"
      },
      "source": [
        "model.summary()"
      ],
      "execution_count": 32,
      "outputs": [
        {
          "output_type": "stream",
          "text": [
            "Model: \"sequential_1\"\n",
            "_________________________________________________________________\n",
            "Layer (type)                 Output Shape              Param #   \n",
            "=================================================================\n",
            "dense_3 (Dense)              (None, 32)                25120     \n",
            "_________________________________________________________________\n",
            "dense_4 (Dense)              (None, 5)                 165       \n",
            "_________________________________________________________________\n",
            "dense_5 (Dense)              (None, 10)                60        \n",
            "=================================================================\n",
            "Total params: 25,345\n",
            "Trainable params: 25,345\n",
            "Non-trainable params: 0\n",
            "_________________________________________________________________\n"
          ],
          "name": "stdout"
        }
      ]
    },
    {
      "cell_type": "code",
      "metadata": {
        "colab": {
          "base_uri": "https://localhost:8080/",
          "height": 422
        },
        "id": "OLgi-D68hN7k",
        "outputId": "fdd3647a-b651-4d83-a28a-210372b6b734"
      },
      "source": [
        "plot_model(model, show_shapes=True, show_layer_names=True)"
      ],
      "execution_count": 33,
      "outputs": [
        {
          "output_type": "execute_result",
          "data": {
            "image/png": "[encoded data removed]",
            "text/plain": [
              "<IPython.core.display.Image object>"
            ]
          },
          "metadata": {
            "tags": []
          },
          "execution_count": 33
        }
      ]
    },
    {
      "cell_type": "code",
      "metadata": {
        "colab": {
          "base_uri": "https://localhost:8080/"
        },
        "id": "8T8p7ZathT6n",
        "outputId": "95a3ab76-0924-4c79-d755-e7aa7bb2529c"
      },
      "source": [
        "model.compile(optimizer=\"sgd\", loss='categorical_crossentropy', metrics=['accuracy'])\n",
        "history = model.fit(x_train, y_train, batch_size=256, epochs=5, verbose=True, validation_split=.1)"
      ],
      "execution_count": 34,
      "outputs": [
        {
          "output_type": "stream",
          "text": [
            "Epoch 1/5\n",
            "211/211 [==============================] - 5s 5ms/step - loss: 5.6438 - accuracy: 0.0884 - val_loss: 7.9551 - val_accuracy: 0.1462\n",
            "Epoch 2/5\n",
            "211/211 [==============================] - 1s 3ms/step - loss: 8.0770 - accuracy: 0.1390 - val_loss: 8.4137 - val_accuracy: 0.1802\n",
            "Epoch 3/5\n",
            "211/211 [==============================] - 1s 3ms/step - loss: 8.1571 - accuracy: 0.1766 - val_loss: 7.4271 - val_accuracy: 0.1547\n",
            "Epoch 4/5\n",
            "211/211 [==============================] - 1s 3ms/step - loss: 8.1128 - accuracy: 0.1667 - val_loss: 6.9977 - val_accuracy: 0.1088\n",
            "Epoch 5/5\n",
            "211/211 [==============================] - 1s 3ms/step - loss: 7.2280 - accuracy: 0.1208 - val_loss: 9.8561 - val_accuracy: 0.1240\n"
          ],
          "name": "stdout"
        }
      ]
    },
    {
      "cell_type": "code",
      "metadata": {
        "id": "vtlcLVyqhZfl"
      },
      "source": [
        "model = Sequential()\n",
        "model.add(Dense(512, input_shape=(784,)))\n",
        "model.add(Activation('relu'))                            \n",
        "\n",
        "model.add(Dense(512))\n",
        "model.add(Activation('relu'))\n",
        "\n",
        "model.add(Dense(512))\n",
        "model.add(Activation('relu'))\n",
        "\n",
        "model.add(Dense(512))\n",
        "model.add(Activation('relu'))\n",
        "\n",
        "model.add(Dense(10))\n",
        "model.add(Activation('relu'))"
      ],
      "execution_count": 35,
      "outputs": []
    },
    {
      "cell_type": "code",
      "metadata": {
        "colab": {
          "base_uri": "https://localhost:8080/"
        },
        "id": "1ijLAFAXhlyI",
        "outputId": "20bad6a3-9a74-4d54-b1ff-bda7a5de9def"
      },
      "source": [
        "model.compile(optimizer=\"sgd\", loss='categorical_crossentropy', metrics=['accuracy'])\n",
        "history = model.fit(x_train, y_train, batch_size=256, epochs=10, verbose=True, validation_split=.1)"
      ],
      "execution_count": 36,
      "outputs": [
        {
          "output_type": "stream",
          "text": [
            "Epoch 1/10\n",
            "211/211 [==============================] - 9s 37ms/step - loss: 5.6531 - accuracy: 0.1957 - val_loss: 7.6438 - val_accuracy: 0.0960\n",
            "Epoch 2/10\n",
            "211/211 [==============================] - 8s 36ms/step - loss: 7.6462 - accuracy: 0.1000 - val_loss: 7.5537 - val_accuracy: 0.0960\n",
            "Epoch 3/10\n",
            "211/211 [==============================] - 7s 35ms/step - loss: 7.4995 - accuracy: 0.1014 - val_loss: 7.5171 - val_accuracy: 0.0960\n",
            "Epoch 4/10\n",
            "211/211 [==============================] - 7s 35ms/step - loss: 7.5161 - accuracy: 0.0997 - val_loss: 7.4965 - val_accuracy: 0.0960\n",
            "Epoch 5/10\n",
            "211/211 [==============================] - 7s 35ms/step - loss: 7.5464 - accuracy: 0.1004 - val_loss: 7.4837 - val_accuracy: 0.0960\n",
            "Epoch 6/10\n",
            "211/211 [==============================] - 7s 35ms/step - loss: 7.5377 - accuracy: 0.0984 - val_loss: 7.4757 - val_accuracy: 0.0960\n",
            "Epoch 7/10\n",
            "211/211 [==============================] - 7s 35ms/step - loss: 7.5594 - accuracy: 0.0997 - val_loss: 7.4707 - val_accuracy: 0.0960\n",
            "Epoch 8/10\n",
            "211/211 [==============================] - 7s 35ms/step - loss: 7.4964 - accuracy: 0.1018 - val_loss: 7.4677 - val_accuracy: 0.0960\n",
            "Epoch 9/10\n",
            "211/211 [==============================] - 8s 36ms/step - loss: 7.5012 - accuracy: 0.0999 - val_loss: 7.4660 - val_accuracy: 0.0960\n",
            "Epoch 10/10\n",
            "211/211 [==============================] - 8s 36ms/step - loss: 7.4687 - accuracy: 0.1007 - val_loss: 7.4651 - val_accuracy: 0.0960\n"
          ],
          "name": "stdout"
        }
      ]
    }
  ]
}