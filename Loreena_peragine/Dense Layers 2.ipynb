{
 "cells": [
  {
   "cell_type": "code",
   "execution_count": 1,
   "id": "26106047",
   "metadata": {},
   "outputs": [],
   "source": [
    "# Here we import the keras API and the Dataset\n",
    "# The Keras API allows us to build models\n",
    "import keras\n",
    "from keras.datasets import mnist"
   ]
  },
  {
   "cell_type": "code",
   "execution_count": 2,
   "id": "1a8d8cc2",
   "metadata": {},
   "outputs": [
    {
     "name": "stdout",
     "output_type": "stream",
     "text": [
      "Number of train examples: (60000, 28, 28)\n",
      "Number of test examples: (10000, 28, 28)\n",
      "Number of train features: (60000,)\n",
      "Number of test features: (10000,)\n"
     ]
    }
   ],
   "source": [
    "# Load the data and seperate it into the trainning and testing section\n",
    "(x_train, y_train), (x_test, y_test) = mnist.load_data()\n",
    "\n",
    "# This is the data (x)\n",
    "print('Number of train examples:', x_train.shape)\n",
    "print('Number of test examples:', x_test.shape)\n",
    "\n",
    "# these represent the ouput for the data (y)\n",
    "print('Number of train features:', y_train.shape)\n",
    "print('Number of test features:', y_test.shape)\n",
    "\n",
    "\n",
    "# The reason we have the data broken up into two sections is to update the model (train)\n",
    "# and then see how well it preforms with new information (testing)"
   ]
  },
  {
   "cell_type": "code",
   "execution_count": 3,
   "id": "65242b87",
   "metadata": {},
   "outputs": [
    {
     "name": "stdout",
     "output_type": "stream",
     "text": [
      "Number of train examples: (60000, 784)\n",
      "Number of test examples: (10000, 784)\n",
      "Number of train features: (60000, 10)\n",
      "Number of test features: (10000, 10)\n"
     ]
    }
   ],
   "source": [
    "# Get the number of pixels in the Neural Network\n",
    "image_size = 784\n",
    "\n",
    "# Reduce the dimensionality of the data\n",
    "x_train = x_train.reshape(x_train.shape[0], image_size) # Transform from matrix to vector\n",
    "x_train = x_train.astype('float32')\n",
    "x_train /= 255 # Normalize inputs from 0-255 to 0.0-1.0\n",
    "\n",
    "x_test = x_test.reshape(x_test.shape[0], image_size) # Transform from matrix to vector\n",
    "x_test = x_test.astype('float32')\n",
    "x_test /= 255 # Normalize inputs from 0-255 to 0.0-1.0\n",
    "\n",
    "\n",
    "\n",
    "# Convert class vectors to binary class matrices\n",
    "num_classes = 10\n",
    "y_train = keras.utils.to_categorical(y_train, num_classes)\n",
    "y_test = keras.utils.to_categorical(y_test, num_classes)\n",
    "\n",
    "\n",
    "print('Number of train examples:', x_train.shape)\n",
    "print('Number of test examples:', x_test.shape)\n",
    "print('Number of train features:', y_train.shape)\n",
    "print('Number of test features:', y_test.shape)"
   ]
  },
  {
   "cell_type": "code",
   "execution_count": 4,
   "id": "e5a67e31",
   "metadata": {},
   "outputs": [],
   "source": [
    "from keras.models import Sequential\n",
    "from keras.layers import Dense, Activation\n",
    "from keras.utils.vis_utils import plot_model"
   ]
  },
  {
   "cell_type": "code",
   "execution_count": 5,
   "id": "bc59f1b1",
   "metadata": {},
   "outputs": [],
   "source": [
    " # sequential is a type of feed forward model\n",
    "model = Sequential(\n",
    "            [\n",
    "                # fully connected layer with 32 nodes, takes in 28*28 input images\n",
    "                Dense(32, input_shape=(28*28,), activation='linear'),\n",
    "                # another fully connected layer with 5 nodes\n",
    "                Dense(5, activation='linear'),\n",
    "                # another fully connected layer with 5 nodes\n",
    "                Dense(10, activation='linear')\n",
    "            ]\n",
    "                  )"
   ]
  },
  {
   "cell_type": "code",
   "execution_count": 6,
   "id": "6f7eb206",
   "metadata": {},
   "outputs": [
    {
     "name": "stdout",
     "output_type": "stream",
     "text": [
      "Model: \"sequential\"\n",
      "_________________________________________________________________\n",
      "Layer (type)                 Output Shape              Param #   \n",
      "=================================================================\n",
      "dense (Dense)                (None, 32)                25120     \n",
      "_________________________________________________________________\n",
      "dense_1 (Dense)              (None, 5)                 165       \n",
      "_________________________________________________________________\n",
      "dense_2 (Dense)              (None, 10)                60        \n",
      "=================================================================\n",
      "Total params: 25,345\n",
      "Trainable params: 25,345\n",
      "Non-trainable params: 0\n",
      "_________________________________________________________________\n"
     ]
    }
   ],
   "source": [
    "model.summary()"
   ]
  },
  {
   "cell_type": "code",
   "execution_count": 8,
   "id": "eb3f824a",
   "metadata": {},
   "outputs": [
    {
     "name": "stdout",
     "output_type": "stream",
     "text": [
      "Epoch 1/5\n",
      "211/211 [==============================] - 0s 2ms/step - loss: 8.9609 - accuracy: 0.0689 - val_loss: 8.2557 - val_accuracy: 0.0960\n",
      "Epoch 2/5\n",
      "211/211 [==============================] - 0s 2ms/step - loss: 8.3963 - accuracy: 0.0995 - val_loss: 8.9591 - val_accuracy: 0.0960\n",
      "Epoch 3/5\n",
      "211/211 [==============================] - 0s 2ms/step - loss: 8.7848 - accuracy: 0.0995 - val_loss: 9.2599 - val_accuracy: 0.0960\n",
      "Epoch 4/5\n",
      "211/211 [==============================] - 0s 2ms/step - loss: 8.9472 - accuracy: 0.0995 - val_loss: 9.3861 - val_accuracy: 0.0960\n",
      "Epoch 5/5\n",
      "211/211 [==============================] - 0s 2ms/step - loss: 9.0212 - accuracy: 0.0995 - val_loss: 9.4640 - val_accuracy: 0.0960\n"
     ]
    }
   ],
   "source": [
    "model.compile(optimizer=\"sgd\", loss='categorical_crossentropy', metrics=['accuracy'])\n",
    "history = model.fit(x_train, y_train, batch_size=256, epochs=5, verbose=True, validation_split=.1)"
   ]
  },
  {
   "cell_type": "code",
   "execution_count": 9,
   "id": "d2dbe631",
   "metadata": {},
   "outputs": [],
   "source": [
    "model = Sequential()\n",
    "model.add(Dense(512, input_shape=(784,)))\n",
    "model.add(Activation('relu'))                            \n",
    "\n",
    "model.add(Dense(512))\n",
    "model.add(Activation('relu'))\n",
    "\n",
    "model.add(Dense(512))\n",
    "model.add(Activation('relu'))\n",
    "\n",
    "model.add(Dense(512))\n",
    "model.add(Activation('relu'))\n",
    "\n",
    "model.add(Dense(10))\n",
    "model.add(Activation('relu'))"
   ]
  },
  {
   "cell_type": "code",
   "execution_count": 10,
   "id": "c07bb2b5",
   "metadata": {},
   "outputs": [],
   "source": [
    "model.compile(optimizer=\"sgd\", loss='categorical_crossentropy', metrics=['accuracy'])"
   ]
  },
  {
   "cell_type": "code",
   "execution_count": 11,
   "id": "2d4fdf8d",
   "metadata": {},
   "outputs": [
    {
     "name": "stdout",
     "output_type": "stream",
     "text": [
      "Epoch 1/10\n",
      "211/211 [==============================] - 4s 19ms/step - loss: 3.8322 - accuracy: 0.1133 - val_loss: 3.6918 - val_accuracy: 0.1050\n",
      "Epoch 2/10\n",
      "211/211 [==============================] - 4s 18ms/step - loss: 3.6411 - accuracy: 0.1132 - val_loss: 3.6371 - val_accuracy: 0.1050\n",
      "Epoch 3/10\n",
      "211/211 [==============================] - 4s 18ms/step - loss: 3.6064 - accuracy: 0.1132 - val_loss: 3.6120 - val_accuracy: 0.1050\n",
      "Epoch 4/10\n",
      "211/211 [==============================] - 4s 18ms/step - loss: 3.5889 - accuracy: 0.1132 - val_loss: 3.5976 - val_accuracy: 0.1050\n",
      "Epoch 5/10\n",
      "211/211 [==============================] - 4s 20ms/step - loss: 3.5782 - accuracy: 0.1132 - val_loss: 3.5878 - val_accuracy: 0.1050\n",
      "Epoch 6/10\n",
      "211/211 [==============================] - 4s 18ms/step - loss: 3.5705 - accuracy: 0.1132 - val_loss: 3.5799 - val_accuracy: 0.1050\n",
      "Epoch 7/10\n",
      "211/211 [==============================] - 4s 19ms/step - loss: 3.5634 - accuracy: 0.1132 - val_loss: 3.5718 - val_accuracy: 0.1050\n",
      "Epoch 8/10\n",
      "211/211 [==============================] - 4s 17ms/step - loss: 3.5549 - accuracy: 0.1132 - val_loss: 3.5611 - val_accuracy: 0.1055\n",
      "Epoch 9/10\n",
      "211/211 [==============================] - 4s 19ms/step - loss: 3.5418 - accuracy: 0.2372 - val_loss: 3.5429 - val_accuracy: 0.3617\n",
      "Epoch 10/10\n",
      "211/211 [==============================] - 4s 18ms/step - loss: 3.5150 - accuracy: 0.4196 - val_loss: 3.5010 - val_accuracy: 0.4592\n"
     ]
    }
   ],
   "source": [
    "history = model.fit(x_train, y_train, batch_size=256, epochs=10, verbose=True, validation_split=.1)"
   ]
  },
  {
   "cell_type": "code",
   "execution_count": 12,
   "id": "21075a98",
   "metadata": {},
   "outputs": [],
   "source": [
    "import tensorflow as tf\n",
    "tf.keras.backend.clear_session()"
   ]
  },
  {
   "cell_type": "code",
   "execution_count": null,
   "id": "ab725c9f",
   "metadata": {},
   "outputs": [],
   "source": []
  }
 ],
 "metadata": {
  "kernelspec": {
   "display_name": "Python 3",
   "language": "python",
   "name": "python3"
  },
  "language_info": {
   "codemirror_mode": {
    "name": "ipython",
    "version": 3
   },
   "file_extension": ".py",
   "mimetype": "text/x-python",
   "name": "python",
   "nbconvert_exporter": "python",
   "pygments_lexer": "ipython3",
   "version": "3.8.8"
  }
 },
 "nbformat": 4,
 "nbformat_minor": 5
}
